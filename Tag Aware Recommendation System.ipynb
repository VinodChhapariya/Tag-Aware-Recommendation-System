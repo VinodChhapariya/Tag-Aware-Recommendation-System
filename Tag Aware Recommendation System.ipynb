{
 "cells": [
  {
   "cell_type": "code",
   "execution_count": 121,
   "metadata": {
    "collapsed": true
   },
   "outputs": [],
   "source": [
    "import pandas as pd\n",
    "import numpy as np\n",
    "import csv, json"
   ]
  },
  {
   "cell_type": "code",
   "execution_count": 122,
   "metadata": {},
   "outputs": [],
   "source": [
    "#Reading data from tags.csv into dataframe\n",
    "df = pd.read_csv('Datasets/ml-latest-small/tags.csv')\n",
    "\n",
    "#copying dataframe into numpy array\n",
    "np_df = df.as_matrix()\n",
    "\n",
    "#print df.shape\n",
    "#print len(df['userId'].unique())\n",
    "#print len(df['movieId'].unique())\n",
    "#print len(df['tag'].unique())\n",
    "#df.head()"
   ]
  },
  {
   "cell_type": "code",
   "execution_count": 123,
   "metadata": {},
   "outputs": [
    {
     "name": "stdout",
     "output_type": "stream",
     "text": [
      "(61, 689, 582)\n"
     ]
    }
   ],
   "source": [
    "#TagCube - creating and initialization with zeros \n",
    "TagCube = np.zeros((len(df['userId'].unique()),len(df['movieId'].unique()),len(df['tag'].unique())), dtype=np.int)\n",
    "print TagCube.shape"
   ]
  },
  {
   "cell_type": "code",
   "execution_count": 124,
   "metadata": {
    "scrolled": false
   },
   "outputs": [],
   "source": [
    "#Creating list for unique user, movie and tags in a dataset\n",
    "userIdList=df['userId'].unique()\n",
    "movieIdList=df['movieId'].unique()\n",
    "tagList=df['tag'].unique()\n",
    "#print tagList"
   ]
  },
  {
   "cell_type": "code",
   "execution_count": 125,
   "metadata": {},
   "outputs": [
    {
     "data": {
      "text/plain": [
       "3"
      ]
     },
     "execution_count": 125,
     "metadata": {},
     "output_type": "execute_result"
    }
   ],
   "source": [
    "#Getting array index from element using np.where\n",
    "#np_df[any][0]-->userId, np_df[any][1]-->movieId, np_df[any][2]-->tag\n",
    "p, = np.where(userIdList==[np_df[20][0]])\n",
    "p[0]"
   ]
  },
  {
   "cell_type": "code",
   "execution_count": 126,
   "metadata": {},
   "outputs": [],
   "source": [
    "#Creating TagCube(3d Array - [U,I,T]) and sparse dictionary with adding entries from tags dataframe row. \n",
    "\n",
    "sparseDict={}\n",
    "\n",
    "for i in range(0, len(df)):\n",
    "    if (np_df[i][0] in userIdList):\n",
    "        p, = np.where(userIdList==[np_df[i][0]])\n",
    "    if (np_df[i][1] in movieIdList):\n",
    "        q, = np.where(movieIdList==[np_df[i][1]])\n",
    "    if (np_df[i][2] in tagList):\n",
    "        r, = np.where(tagList==[np_df[i][2]])\n",
    "    TagCube[p[0]][q[0]][r[0]]=1 \n",
    "    sparseDict[i]=[p[0],q[0],r[0]]\n",
    "\n",
    "#print TagCube\n",
    "#print sparseDict "
   ]
  },
  {
   "cell_type": "code",
   "execution_count": 129,
   "metadata": {},
   "outputs": [],
   "source": [
    "#Storing to csv file - #(user*item) rows, #tags columns (appending #item rows for each user per iteration)\n",
    "p,q,r= TagCube.shape\n",
    "with open(\"TagCube.csv\",\"a\")as file:\n",
    "    for i in range(0, p):\n",
    "        np.savetxt(file,TagCube[i,...], delimiter=',', fmt='%d')"
   ]
  },
  {
   "cell_type": "code",
   "execution_count": 128,
   "metadata": {
    "collapsed": true
   },
   "outputs": [],
   "source": [
    "#Storing sparse dictionary of (user,item,tag) to json file\n",
    "with open('sparseTagCube.json', 'w') as jf:\n",
    "    json.dump(sparseDict, jf)"
   ]
  }
 ],
 "metadata": {
  "kernelspec": {
   "display_name": "Python 2",
   "language": "python",
   "name": "python2"
  },
  "language_info": {
   "codemirror_mode": {
    "name": "ipython",
    "version": 2
   },
   "file_extension": ".py",
   "mimetype": "text/x-python",
   "name": "python",
   "nbconvert_exporter": "python",
   "pygments_lexer": "ipython2",
   "version": "2.7.12"
  }
 },
 "nbformat": 4,
 "nbformat_minor": 2
}
