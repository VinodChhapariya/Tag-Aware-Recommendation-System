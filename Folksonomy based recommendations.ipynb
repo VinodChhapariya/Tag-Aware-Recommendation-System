{
 "cells": [
  {
   "cell_type": "code",
   "execution_count": 37,
   "metadata": {
    "collapsed": true
   },
   "outputs": [],
   "source": [
    "import pandas as pd\n",
    "import numpy as np\n",
    "import csv, json"
   ]
  },
  {
   "cell_type": "code",
   "execution_count": 38,
   "metadata": {},
   "outputs": [
    {
     "name": "stdout",
     "output_type": "stream",
     "text": [
      "(1296, 4)\n",
      "61\n",
      "689\n",
      "582\n"
     ]
    },
    {
     "data": {
      "text/html": [
       "<div>\n",
       "<style>\n",
       "    .dataframe thead tr:only-child th {\n",
       "        text-align: right;\n",
       "    }\n",
       "\n",
       "    .dataframe thead th {\n",
       "        text-align: left;\n",
       "    }\n",
       "\n",
       "    .dataframe tbody tr th {\n",
       "        vertical-align: top;\n",
       "    }\n",
       "</style>\n",
       "<table border=\"1\" class=\"dataframe\">\n",
       "  <thead>\n",
       "    <tr style=\"text-align: right;\">\n",
       "      <th></th>\n",
       "      <th>userId</th>\n",
       "      <th>movieId</th>\n",
       "      <th>tag</th>\n",
       "      <th>timestamp</th>\n",
       "    </tr>\n",
       "  </thead>\n",
       "  <tbody>\n",
       "    <tr>\n",
       "      <th>0</th>\n",
       "      <td>15</td>\n",
       "      <td>339</td>\n",
       "      <td>sandra 'boring' bullock</td>\n",
       "      <td>1138537770</td>\n",
       "    </tr>\n",
       "    <tr>\n",
       "      <th>1</th>\n",
       "      <td>15</td>\n",
       "      <td>1955</td>\n",
       "      <td>dentist</td>\n",
       "      <td>1193435061</td>\n",
       "    </tr>\n",
       "    <tr>\n",
       "      <th>2</th>\n",
       "      <td>15</td>\n",
       "      <td>7478</td>\n",
       "      <td>Cambodia</td>\n",
       "      <td>1170560997</td>\n",
       "    </tr>\n",
       "    <tr>\n",
       "      <th>3</th>\n",
       "      <td>15</td>\n",
       "      <td>32892</td>\n",
       "      <td>Russian</td>\n",
       "      <td>1170626366</td>\n",
       "    </tr>\n",
       "    <tr>\n",
       "      <th>4</th>\n",
       "      <td>15</td>\n",
       "      <td>34162</td>\n",
       "      <td>forgettable</td>\n",
       "      <td>1141391765</td>\n",
       "    </tr>\n",
       "  </tbody>\n",
       "</table>\n",
       "</div>"
      ],
      "text/plain": [
       "   userId  movieId                      tag   timestamp\n",
       "0      15      339  sandra 'boring' bullock  1138537770\n",
       "1      15     1955                  dentist  1193435061\n",
       "2      15     7478                 Cambodia  1170560997\n",
       "3      15    32892                  Russian  1170626366\n",
       "4      15    34162              forgettable  1141391765"
      ]
     },
     "execution_count": 38,
     "metadata": {},
     "output_type": "execute_result"
    }
   ],
   "source": [
    "#Reading data from tags.csv into dataframe\n",
    "df = pd.read_csv('/home/vinodchhapariya/Desktop/ThesisWork/Datasets/ml-latest-small/tags.csv')\n",
    "\n",
    "#copying dataframe into numpy array\n",
    "np_df = df.as_matrix()\n",
    "\n",
    "print df.shape\n",
    "print len(df['userId'].unique())\n",
    "print len(df['movieId'].unique())\n",
    "print len(df['tag'].unique())\n",
    "df.head()"
   ]
  },
  {
   "cell_type": "code",
   "execution_count": 39,
   "metadata": {},
   "outputs": [
    {
     "name": "stdout",
     "output_type": "stream",
     "text": [
      "(61, 689, 582)\n"
     ]
    }
   ],
   "source": [
    "#TagCube - creating and initialization with zeros \n",
    "TagCube = np.zeros((len(df['userId'].unique()),len(df['movieId'].unique()),len(df['tag'].unique())), dtype=np.int)\n",
    "print TagCube.shape"
   ]
  },
  {
   "cell_type": "code",
   "execution_count": 40,
   "metadata": {
    "scrolled": false
   },
   "outputs": [],
   "source": [
    "#Creating list for unique user, movie and tags in a dataset\n",
    "userIdList=df['userId'].unique()\n",
    "movieIdList=df['movieId'].unique()\n",
    "tagList=df['tag'].unique()\n"
   ]
  },
  {
   "cell_type": "code",
   "execution_count": 41,
   "metadata": {},
   "outputs": [
    {
     "data": {
      "text/plain": [
       "3"
      ]
     },
     "execution_count": 41,
     "metadata": {},
     "output_type": "execute_result"
    }
   ],
   "source": [
    "#Getting array index from element using np.where\n",
    "#np_df[any][0]-->userId, np_df[any][1]-->movieId, np_df[any][2]-->tag\n",
    "p, = np.where(userIdList==[np_df[20][0]])\n",
    "p[0]"
   ]
  },
  {
   "cell_type": "code",
   "execution_count": 42,
   "metadata": {
    "collapsed": true
   },
   "outputs": [],
   "source": [
    "#Creating TagCube(3d Array - [U,I,T]) and sparse dictionary with adding entries from tags dataframe row. \n",
    "\n",
    "sparseDict={}\n",
    "\n",
    "for i in range(0, len(df)):\n",
    "    if (np_df[i][0] in userIdList):\n",
    "        p, = np.where(userIdList==[np_df[i][0]])\n",
    "    if (np_df[i][1] in movieIdList):\n",
    "        q, = np.where(movieIdList==[np_df[i][1]])\n",
    "    if (np_df[i][2] in tagList):\n",
    "        r, = np.where(tagList==[np_df[i][2]])\n",
    "    TagCube[p[0]][q[0]][r[0]]=1 \n",
    "    sparseDict[i]=[p[0],q[0],r[0]]\n",
    "\n",
    "#print TagCube\n",
    "#print sparseDict "
   ]
  },
  {
   "cell_type": "code",
   "execution_count": 44,
   "metadata": {
    "collapsed": true
   },
   "outputs": [],
   "source": [
    "#Storing to csv file - #(user*item) rows, #tags columns (appending #item rows for each user per iteration)\n",
    "p,q,r= TagCube.shape\n",
    "with open(\"TagCube.csv\",\"a\")as file:\n",
    "    for i in range(0, p):\n",
    "        np.savetxt(file,TagCube[i,...], delimiter=',', fmt='%d')"
   ]
  },
  {
   "cell_type": "code",
   "execution_count": 45,
   "metadata": {
    "collapsed": true
   },
   "outputs": [],
   "source": [
    "#Storing sparse dictionary of (user,item,tag) to json file\n",
    "with open('sparseTagCube.json', 'w') as jf:\n",
    "    json.dump(sparseDict, jf)"
   ]
  },
  {
   "cell_type": "code",
   "execution_count": 53,
   "metadata": {
    "collapsed": true
   },
   "outputs": [],
   "source": [
    "movie_df = pd.read_csv('/home/vinodchhapariya/Desktop/ThesisWork/Datasets/ml-latest-small/movies.csv')"
   ]
  },
  {
   "cell_type": "code",
   "execution_count": 69,
   "metadata": {
    "scrolled": false
   },
   "outputs": [
    {
     "name": "stdout",
     "output_type": "stream",
     "text": [
      "Index: [0, 0, 0] \n",
      "\n",
      "UserId: 15 \n",
      "\n",
      "Movie Details:\n",
      "     movieId                           title          genres\n",
      "304      339  While You Were Sleeping (1995)  Comedy|Romance \n",
      "\n",
      "Tag: sandra 'boring' bullock\n",
      "\n",
      "**********************************\n",
      "\n",
      "Index: [0, 1, 1] \n",
      "\n",
      "UserId: 15 \n",
      "\n",
      "Movie Details:\n",
      "      movieId                     title genres\n",
      "1517     1955  Kramer vs. Kramer (1979)  Drama \n",
      "\n",
      "Tag: dentist\n",
      "\n",
      "**********************************\n",
      "\n",
      "Index: [0, 2, 2] \n",
      "\n",
      "UserId: 15 \n",
      "\n",
      "Movie Details:\n",
      "      movieId                        title genres\n",
      "5166     7478  Swimming to Cambodia (1987)  Drama \n",
      "\n",
      "Tag: Cambodia\n",
      "\n",
      "**********************************\n",
      "\n",
      "Index: [0, 3, 3] \n",
      "\n",
      "UserId: 15 \n",
      "\n",
      "Movie Details:\n",
      "      movieId                                              title     genres\n",
      "6118    32892  Ivan's Childhood (a.k.a. My Name is Ivan) (Iva...  Drama|War \n",
      "\n",
      "Tag: Russian\n",
      "\n",
      "**********************************\n",
      "\n",
      "Index: [0, 4, 4] \n",
      "\n",
      "UserId: 15 \n",
      "\n",
      "Movie Details:\n",
      "      movieId                    title          genres\n",
      "6178    34162  Wedding Crashers (2005)  Comedy|Romance \n",
      "\n",
      "Tag: forgettable\n",
      "\n",
      "**********************************\n",
      "\n",
      "Index: [0, 5, 5] \n",
      "\n",
      "UserId: 15 \n",
      "\n",
      "Movie Details:\n",
      "      movieId           title           genres\n",
      "6208    35957  Red Eye (2005)  Horror|Thriller \n",
      "\n",
      "Tag: short\n",
      "\n",
      "**********************************\n",
      "\n",
      "Index: [0, 6, 6] \n",
      "\n",
      "UserId: 15 \n",
      "\n",
      "Movie Details:\n",
      "      movieId                title                                    genres\n",
      "6236    37729  Corpse Bride (2005)  Animation|Comedy|Fantasy|Musical|Romance \n",
      "\n",
      "Tag: dull story\n",
      "\n",
      "**********************************\n",
      "\n",
      "Index: [0, 7, 7] \n",
      "\n",
      "UserId: 15 \n",
      "\n",
      "Movie Details:\n",
      "      movieId                          title       genres\n",
      "6453    45950  Inconvenient Truth, An (2006)  Documentary \n",
      "\n",
      "Tag: powerpoint\n",
      "\n",
      "**********************************\n",
      "\n",
      "Index: [0, 8, 8] \n",
      "\n",
      "UserId: 15 \n",
      "\n",
      "Movie Details:\n",
      "      movieId                 title       genres\n",
      "8268   100365  Call Me Kuchu (2012)  Documentary \n",
      "\n",
      "Tag: activist\n",
      "\n",
      "**********************************\n",
      "\n",
      "Index: [0, 8, 9] \n",
      "\n",
      "UserId: 15 \n",
      "\n",
      "Movie Details:\n",
      "      movieId                 title       genres\n",
      "8268   100365  Call Me Kuchu (2012)  Documentary \n",
      "\n",
      "Tag: documentary\n",
      "\n",
      "**********************************\n",
      "\n"
     ]
    }
   ],
   "source": [
    "for i in range(0, 10):\n",
    "    print \"Index:\", sparseDict[i],\"\\n\"\n",
    "    print \"UserId:\", userIdList[sparseDict[i][0]],\"\\n\"\n",
    "    print \"Movie Details:\\n\", movie_df.loc[movie_df['movieId'] == movieIdList[sparseDict[i][1]]],\"\\n\"\n",
    "    print \"Tag:\", tagList[sparseDict[i][2]]\n",
    "    print \"\\n**********************************\\n\""
   ]
  },
  {
   "cell_type": "code",
   "execution_count": 68,
   "metadata": {},
   "outputs": [
    {
     "name": "stdout",
     "output_type": "stream",
     "text": [
      "37729\n"
     ]
    },
    {
     "data": {
      "text/html": [
       "<div>\n",
       "<style>\n",
       "    .dataframe thead tr:only-child th {\n",
       "        text-align: right;\n",
       "    }\n",
       "\n",
       "    .dataframe thead th {\n",
       "        text-align: left;\n",
       "    }\n",
       "\n",
       "    .dataframe tbody tr th {\n",
       "        vertical-align: top;\n",
       "    }\n",
       "</style>\n",
       "<table border=\"1\" class=\"dataframe\">\n",
       "  <thead>\n",
       "    <tr style=\"text-align: right;\">\n",
       "      <th></th>\n",
       "      <th>movieId</th>\n",
       "      <th>title</th>\n",
       "      <th>genres</th>\n",
       "    </tr>\n",
       "  </thead>\n",
       "  <tbody>\n",
       "    <tr>\n",
       "      <th>6236</th>\n",
       "      <td>37729</td>\n",
       "      <td>Corpse Bride (2005)</td>\n",
       "      <td>Animation|Comedy|Fantasy|Musical|Romance</td>\n",
       "    </tr>\n",
       "  </tbody>\n",
       "</table>\n",
       "</div>"
      ],
      "text/plain": [
       "      movieId                title                                    genres\n",
       "6236    37729  Corpse Bride (2005)  Animation|Comedy|Fantasy|Musical|Romance"
      ]
     },
     "execution_count": 68,
     "metadata": {},
     "output_type": "execute_result"
    }
   ],
   "source": [
    "print movieIdList[6]\n",
    "movie_df.loc[movie_df['movieId']==37729]\n"
   ]
  },
  {
   "cell_type": "markdown",
   "metadata": {},
   "source": [
    "### Demo -  user item pairs for tag context K"
   ]
  },
  {
   "cell_type": "code",
   "execution_count": 21,
   "metadata": {},
   "outputs": [
    {
     "name": "stdout",
     "output_type": "stream",
     "text": [
      "18 50 87\n",
      "30 177 87\n",
      "34 224 87\n",
      "56 685 87\n"
     ]
    }
   ],
   "source": [
    "for i in range(0, len(sparseDict)):\n",
    "    l = sparseDict.get(i)\n",
    "    if(l[2]==87):\n",
    "        print l[0],l[1],l[2]"
   ]
  },
  {
   "cell_type": "code",
   "execution_count": 28,
   "metadata": {},
   "outputs": [
    {
     "name": "stdout",
     "output_type": "stream",
     "text": [
      "revenge\n",
      "1061 318 27773 111384\n"
     ]
    }
   ],
   "source": [
    "print tagList[87]\n",
    "print movieIdList[50], movieIdList[177], movieIdList[224], movieIdList[685]"
   ]
  },
  {
   "cell_type": "code",
   "execution_count": 56,
   "metadata": {},
   "outputs": [
    {
     "name": "stdout",
     "output_type": "stream",
     "text": [
      "     movieId            title    genres\n",
      "859     1061  Sleepers (1996)  Thriller\n",
      "     movieId                             title       genres\n",
      "284      318  Shawshank Redemption, The (1994)  Crime|Drama\n",
      "      movieId           title            genres\n",
      "5941    27773  Old Boy (2003)  Mystery|Thriller\n",
      "      movieId             title    genres\n",
      "8584   111384  Blue Ruin (2013)  Thriller\n"
     ]
    }
   ],
   "source": [
    "print movie_df.loc[movie_df['movieId'] == 1061]\n",
    "print movie_df.loc[movie_df['movieId'] == 318]\n",
    "print movie_df.loc[movie_df['movieId'] == 27773]\n",
    "print movie_df.loc[movie_df['movieId'] == 111384]\n"
   ]
  },
  {
   "cell_type": "code",
   "execution_count": null,
   "metadata": {
    "collapsed": true
   },
   "outputs": [],
   "source": []
  }
 ],
 "metadata": {
  "kernelspec": {
   "display_name": "Python 2",
   "language": "python",
   "name": "python2"
  },
  "language_info": {
   "codemirror_mode": {
    "name": "ipython",
    "version": 2
   },
   "file_extension": ".py",
   "mimetype": "text/x-python",
   "name": "python",
   "nbconvert_exporter": "python",
   "pygments_lexer": "ipython2",
   "version": "2.7.12"
  }
 },
 "nbformat": 4,
 "nbformat_minor": 2
}
